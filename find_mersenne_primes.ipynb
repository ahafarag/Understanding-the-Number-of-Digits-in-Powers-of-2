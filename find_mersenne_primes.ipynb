{
  "nbformat": 4,
  "nbformat_minor": 0,
  "metadata": {
    "colab": {
      "provenance": [],
      "mount_file_id": "1SXvutgMfw5lEneLvgl--qVJSLDuNQsFF",
      "authorship_tag": "ABX9TyOQx7g+UuvwPQNLvvEb9cqC",
      "include_colab_link": true
    },
    "kernelspec": {
      "name": "python3",
      "display_name": "Python 3"
    },
    "language_info": {
      "name": "python"
    }
  },
  "cells": [
    {
      "cell_type": "markdown",
      "metadata": {
        "id": "view-in-github",
        "colab_type": "text"
      },
      "source": [
        "<a href=\"https://colab.research.google.com/github/ahafarag/Understanding-the-Number-of-Digits-in-Powers-of-2/blob/master/find_mersenne_primes.ipynb\" target=\"_parent\"><img src=\"https://colab.research.google.com/assets/colab-badge.svg\" alt=\"Open In Colab\"/></a>"
      ]
    },
    {
      "cell_type": "code",
      "execution_count": null,
      "metadata": {
        "id": "5vocpNmWE5d_"
      },
      "outputs": [],
      "source": []
    },
    {
      "cell_type": "code",
      "source": [
        "def is_prime_simple(n):\n",
        "    \"\"\"Return True if n is a prime number, otherwise False.\"\"\"\n",
        "    if n <= 1:\n",
        "        return False\n",
        "    for i in range(2, n):\n",
        "        if n % i == 0:\n",
        "            return False\n",
        "    return True\n",
        "\n",
        "def find_mersenne_primes(limit):\n",
        "    \"\"\"Find and print Mersenne primes for prime numbers up to the given limit.\"\"\"\n",
        "    for p in range(2, limit + 1):\n",
        "        if is_prime_simple(p):\n",
        "            mersenne_number = 2**p - 1\n",
        "            if is_prime_simple(mersenne_number):\n",
        "                print(f\"p = {p} gives Mersenne prime: {mersenne_number}\")\n",
        "\n",
        "# Set the range limit for p (you can change this as you wish)\n",
        "limit = 31\n",
        "\n",
        "# Find Mersenne primes in the given range\n",
        "find_mersenne_primes(limit)\n"
      ],
      "metadata": {
        "colab": {
          "base_uri": "https://localhost:8080/"
        },
        "id": "257qPFTAE8D7",
        "outputId": "7d5ae8eb-c1c8-44ad-dd28-ed7967d88abb"
      },
      "execution_count": 1,
      "outputs": [
        {
          "output_type": "stream",
          "name": "stdout",
          "text": [
            "p = 2 gives Mersenne prime: 3\n",
            "p = 3 gives Mersenne prime: 7\n",
            "p = 5 gives Mersenne prime: 31\n",
            "p = 7 gives Mersenne prime: 127\n",
            "p = 13 gives Mersenne prime: 8191\n",
            "p = 17 gives Mersenne prime: 131071\n",
            "p = 19 gives Mersenne prime: 524287\n",
            "p = 31 gives Mersenne prime: 2147483647\n"
          ]
        }
      ]
    },
    {
      "cell_type": "code",
      "source": [],
      "metadata": {
        "id": "MsVx3KZQIHNX"
      },
      "execution_count": null,
      "outputs": []
    },
    {
      "cell_type": "code",
      "source": [
        "# Now lets try with Multiple cores"
      ],
      "metadata": {
        "id": "wAeYol-5GeJB"
      },
      "execution_count": 3,
      "outputs": []
    },
    {
      "cell_type": "code",
      "source": [
        "import concurrent.futures\n",
        "import os\n",
        "\n",
        "def is_prime_simple(n):\n",
        "    \"\"\"Return True if n is a prime number, otherwise False.\"\"\"\n",
        "    if n <= 1:\n",
        "        return False\n",
        "    for i in range(2, n):\n",
        "        if n % i == 0:\n",
        "            return False\n",
        "    return True\n",
        "\n",
        "def check_mersenne_prime(p):\n",
        "    \"\"\"Check if 2^p - 1 is a Mersenne prime and return the result.\"\"\"\n",
        "    if is_prime_simple(p):\n",
        "        mersenne_number = 2**p - 1\n",
        "        if is_prime_simple(mersenne_number):\n",
        "            return f\"p = {p} gives Mersenne prime: {mersenne_number}\"\n",
        "    return None\n",
        "\n",
        "def find_mersenne_primes_parallel(limit):\n",
        "    \"\"\"Find and print Mersenne primes up to a given limit using parallel processing.\"\"\"\n",
        "    with concurrent.futures.ProcessPoolExecutor() as executor:\n",
        "        results = list(executor.map(check_mersenne_prime, range(2, limit + 1)))\n",
        "\n",
        "    for result in results:\n",
        "        if result is not None:\n",
        "            print(result)\n",
        "\n",
        "# Set the range limit for p (you can change this as you wish)\n",
        "limit = 31\n",
        "\n",
        "# Find Mersenne primes in the given range using parallel processing\n",
        "find_mersenne_primes_parallel(limit)\n"
      ],
      "metadata": {
        "colab": {
          "base_uri": "https://localhost:8080/"
        },
        "id": "pxtKuiicGifm",
        "outputId": "a40eb2e6-63ce-432a-ec91-73241b9001f5"
      },
      "execution_count": 4,
      "outputs": [
        {
          "output_type": "stream",
          "name": "stdout",
          "text": [
            "p = 2 gives Mersenne prime: 3\n",
            "p = 3 gives Mersenne prime: 7\n",
            "p = 5 gives Mersenne prime: 31\n",
            "p = 7 gives Mersenne prime: 127\n",
            "p = 13 gives Mersenne prime: 8191\n",
            "p = 17 gives Mersenne prime: 131071\n",
            "p = 19 gives Mersenne prime: 524287\n",
            "p = 31 gives Mersenne prime: 2147483647\n"
          ]
        }
      ]
    },
    {
      "cell_type": "code",
      "source": [
        "# Now lets maximize the memory usage"
      ],
      "metadata": {
        "id": "ET6otyohIH7K"
      },
      "execution_count": 5,
      "outputs": []
    },
    {
      "cell_type": "code",
      "source": [
        "def is_prime_simple(n):\n",
        "    \"\"\"Return True if n is a prime number, otherwise False.\"\"\"\n",
        "    if n <= 1:\n",
        "        return False\n",
        "    for i in range(2, n):\n",
        "        if n % i == 0:\n",
        "            return False\n",
        "    return True\n",
        "\n",
        "def find_mersenne_primes_in_range(start, end):\n",
        "    \"\"\"Find and print Mersenne primes within a given range.\"\"\"\n",
        "    for p in range(start, end + 1):\n",
        "        if is_prime_simple(p):\n",
        "            mersenne_number = 2**p - 1\n",
        "            if is_prime_simple(mersenne_number):\n",
        "                # Print immediately when a Mersenne prime is found\n",
        "                print(f\"p = {p} gives Mersenne prime: {mersenne_number}\")\n",
        "\n",
        "# Example: Divide the work into jobs\n",
        "def find_mersenne_primes_jobs(limit, job_size):\n",
        "    \"\"\"Divide the work into jobs and process them sequentially.\"\"\"\n",
        "    for start in range(2, limit + 1, job_size):\n",
        "        end = min(start + job_size - 1, limit)\n",
        "        find_mersenne_primes_in_range(start, end)\n",
        "\n",
        "# Set the range limit for p and job size\n",
        "limit = 31\n",
        "job_size = 10  # Process 10 exponents per job\n",
        "\n",
        "# Find Mersenne primes in the given range using job division\n",
        "find_mersenne_primes_jobs(limit, job_size)"
      ],
      "metadata": {
        "colab": {
          "base_uri": "https://localhost:8080/"
        },
        "id": "XDEUlHZKILVU",
        "outputId": "312336bd-b7c3-4f52-cc48-76346c7405b0"
      },
      "execution_count": 6,
      "outputs": [
        {
          "output_type": "stream",
          "name": "stdout",
          "text": [
            "p = 2 gives Mersenne prime: 3\n",
            "p = 3 gives Mersenne prime: 7\n",
            "p = 5 gives Mersenne prime: 31\n",
            "p = 7 gives Mersenne prime: 127\n",
            "p = 13 gives Mersenne prime: 8191\n",
            "p = 17 gives Mersenne prime: 131071\n",
            "p = 19 gives Mersenne prime: 524287\n",
            "p = 31 gives Mersenne prime: 2147483647\n"
          ]
        }
      ]
    },
    {
      "cell_type": "code",
      "source": [
        "# new enhancement"
      ],
      "metadata": {
        "id": "xOdRnkwmKi3R"
      },
      "execution_count": 7,
      "outputs": []
    },
    {
      "cell_type": "code",
      "source": [
        "import random\n",
        "\n",
        "def miller_rabin(n, k=5):\n",
        "    \"\"\"Use the Miller-Rabin test to check primality with k iterations.\"\"\"\n",
        "    if n <= 1:\n",
        "        return False\n",
        "    if n <= 3:\n",
        "        return True\n",
        "    if n % 2 == 0:\n",
        "        return False\n",
        "\n",
        "    # Write n-1 as 2^r * d\n",
        "    r, d = 0, n - 1\n",
        "    while d % 2 == 0:\n",
        "        r += 1\n",
        "        d //= 2\n",
        "\n",
        "    # Witness loop\n",
        "    for _ in range(k):\n",
        "        a = random.randint(2, n - 2)\n",
        "        x = pow(a, d, n)\n",
        "        if x == 1 or x == n - 1:\n",
        "            continue\n",
        "        for _ in range(r - 1):\n",
        "            x = pow(x, 2, n)\n",
        "            if x == n - 1:\n",
        "                break\n",
        "        else:\n",
        "            return False\n",
        "    return True\n",
        "\n",
        "def check_mersenne_prime(p):\n",
        "    \"\"\"Check if 2^p - 1 is a Mersenne prime and return the result.\"\"\"\n",
        "    if miller_rabin(p):  # Using the Miller-Rabin test to check if p is prime\n",
        "        mersenne_number = 2**p - 1\n",
        "        if miller_rabin(mersenne_number):  # Check if 2^p - 1 is prime\n",
        "            return f\"p = {p} gives Mersenne prime: {mersenne_number}\"\n",
        "    return None\n",
        "\n",
        "def find_mersenne_primes_in_range(start, end):\n",
        "    \"\"\"Find and print Mersenne primes within a given range.\"\"\"\n",
        "    for p in range(start, end + 1):\n",
        "        result = check_mersenne_prime(p)\n",
        "        if result:\n",
        "            print(result)\n",
        "\n",
        "# Example: Divide the work into jobs\n",
        "def find_mersenne_primes_jobs(limit, job_size):\n",
        "    \"\"\"Divide the work into jobs and process them sequentially.\"\"\"\n",
        "    for start in range(2, limit + 1, job_size):\n",
        "        end = min(start + job_size - 1, limit)\n",
        "        find_mersenne_primes_in_range(start, end)\n",
        "\n",
        "# Set the range limit for p and job size\n",
        "limit = 31  # You can set this to a higher value to find more Mersenne primes\n",
        "job_size = 10  # Process 10 exponents per job\n",
        "\n",
        "# Find Mersenne primes in the given range using job division\n",
        "find_mersenne_primes_jobs(limit, job_size)\n"
      ],
      "metadata": {
        "colab": {
          "base_uri": "https://localhost:8080/"
        },
        "id": "aRUVL7idIMQ_",
        "outputId": "a8455629-d5ef-4e5d-b040-b60a07de382a"
      },
      "execution_count": 8,
      "outputs": [
        {
          "output_type": "stream",
          "name": "stdout",
          "text": [
            "p = 2 gives Mersenne prime: 3\n",
            "p = 3 gives Mersenne prime: 7\n",
            "p = 5 gives Mersenne prime: 31\n",
            "p = 7 gives Mersenne prime: 127\n",
            "p = 13 gives Mersenne prime: 8191\n",
            "p = 17 gives Mersenne prime: 131071\n",
            "p = 19 gives Mersenne prime: 524287\n",
            "p = 31 gives Mersenne prime: 2147483647\n"
          ]
        }
      ]
    },
    {
      "cell_type": "code",
      "source": [
        "# A better performance :D"
      ],
      "metadata": {
        "id": "YcjjdWvBKmGo"
      },
      "execution_count": 9,
      "outputs": []
    },
    {
      "cell_type": "code",
      "source": [
        "import random\n",
        "\n",
        "def miller_rabin(n, k=5):\n",
        "    \"\"\"Use the Miller-Rabin test to check primality with k iterations.\"\"\"\n",
        "    if n <= 1:\n",
        "        return False\n",
        "    if n <= 3:\n",
        "        return True\n",
        "    if n % 2 == 0:\n",
        "        return False\n",
        "\n",
        "    # Write n-1 as 2^r * d\n",
        "    r, d = 0, n - 1\n",
        "    while d % 2 == 0:\n",
        "        r += 1\n",
        "        d //= 2\n",
        "\n",
        "    # Witness loop\n",
        "    for _ in range(k):\n",
        "        a = random.randint(2, n - 2)\n",
        "        x = pow(a, d, n)\n",
        "        if x == 1 or x == n - 1:\n",
        "            continue\n",
        "        for _ in range(r - 1):\n",
        "            x = pow(x, 2, n)\n",
        "            if x == n - 1:\n",
        "                break\n",
        "        else:\n",
        "            return False\n",
        "    return True\n",
        "\n",
        "def lucas_lehmer_test(p):\n",
        "    \"\"\"Perform the Lucas-Lehmer test for Mersenne primes.\"\"\"\n",
        "    if p == 2:\n",
        "        return True\n",
        "    s = 4\n",
        "    M = 2**p - 1\n",
        "    for _ in range(p - 2):\n",
        "        s = (s * s - 2) % M\n",
        "    return s == 0\n",
        "\n",
        "def format_large_prime(prime, digits_to_show=5):\n",
        "    \"\"\"Format large prime numbers to show in human-readable form.\"\"\"\n",
        "    prime_str = str(prime)\n",
        "    if len(prime_str) > 20:  # Adjust this threshold as needed\n",
        "        return f\"{prime_str[:digits_to_show]}...{prime_str[-digits_to_show:]}\"\n",
        "    return prime_str\n",
        "\n",
        "def check_mersenne_prime(p):\n",
        "    \"\"\"Check if 2^p - 1 is a Mersenne prime using the Lucas-Lehmer test.\"\"\"\n",
        "    if miller_rabin(p):  # Ensure p is prime before using Lucas-Lehmer\n",
        "        if lucas_lehmer_test(p):\n",
        "            mersenne_number = 2**p - 1\n",
        "            formatted_prime = format_large_prime(mersenne_number)\n",
        "            return f\"p = {p} gives Mersenne prime: {formatted_prime}\"\n",
        "    return None\n",
        "\n",
        "def find_mersenne_primes_in_range(start, end):\n",
        "    \"\"\"Find and print Mersenne primes within a given range.\"\"\"\n",
        "    for p in range(start, end + 1):\n",
        "        result = check_mersenne_prime(p)\n",
        "        if result:\n",
        "            print(result)\n",
        "\n",
        "# Example: Divide the work into jobs\n",
        "def find_mersenne_primes_jobs(limit, job_size):\n",
        "    \"\"\"Divide the work into jobs and process them sequentially.\"\"\"\n",
        "    for start in range(2, limit + 1, job_size):\n",
        "        end = min(start + job_size - 1, limit)\n",
        "        find_mersenne_primes_in_range(start, end)\n",
        "\n",
        "# Set the range limit for p and job size\n",
        "limit = 10000  # You can set this to a higher value to find more Mersenne primes\n",
        "job_size = 10  # Process 10 exponents per job\n",
        "\n",
        "# Find Mersenne primes in the given range using job division\n",
        "find_mersenne_primes_jobs(limit, job_size)\n"
      ],
      "metadata": {
        "colab": {
          "base_uri": "https://localhost:8080/"
        },
        "id": "uMH-0dbwLIhO",
        "outputId": "74c25287-f9a3-4011-ed40-0a75f8b633e4"
      },
      "execution_count": 17,
      "outputs": [
        {
          "output_type": "stream",
          "name": "stdout",
          "text": [
            "p = 2 gives Mersenne prime: 3\n",
            "p = 3 gives Mersenne prime: 7\n",
            "p = 5 gives Mersenne prime: 31\n",
            "p = 7 gives Mersenne prime: 127\n",
            "p = 13 gives Mersenne prime: 8191\n",
            "p = 17 gives Mersenne prime: 131071\n",
            "p = 19 gives Mersenne prime: 524287\n",
            "p = 31 gives Mersenne prime: 2147483647\n",
            "p = 61 gives Mersenne prime: 2305843009213693951\n",
            "p = 89 gives Mersenne prime: 61897...62111\n",
            "p = 107 gives Mersenne prime: 16225...88127\n",
            "p = 127 gives Mersenne prime: 17014...05727\n",
            "p = 521 gives Mersenne prime: 68647...57151\n",
            "p = 607 gives Mersenne prime: 53113...28127\n",
            "p = 1279 gives Mersenne prime: 10407...29087\n",
            "p = 2203 gives Mersenne prime: 14759...71007\n",
            "p = 2281 gives Mersenne prime: 44608...36351\n",
            "p = 3217 gives Mersenne prime: 25911...15071\n",
            "p = 4253 gives Mersenne prime: 19079...84991\n",
            "p = 4423 gives Mersenne prime: 28554...80607\n",
            "p = 9689 gives Mersenne prime: 47822...54111\n",
            "p = 9941 gives Mersenne prime: 34608...63551\n"
          ]
        }
      ]
    },
    {
      "cell_type": "code",
      "source": [
        "# visualize results and added more features"
      ],
      "metadata": {
        "id": "vDSHqstyLJJh"
      },
      "execution_count": 18,
      "outputs": []
    },
    {
      "cell_type": "code",
      "source": [
        "import concurrent.futures\n",
        "import random\n",
        "import time\n",
        "from tqdm import tqdm\n",
        "import matplotlib.pyplot as plt\n",
        "import multiprocessing\n",
        "import os\n",
        "\n",
        "def miller_rabin(n, k=5):\n",
        "    \"\"\"Use the Miller-Rabin test to check primality with k iterations.\"\"\"\n",
        "    if n <= 1:\n",
        "        return False\n",
        "    if n <= 3:\n",
        "        return True\n",
        "    if n % 2 == 0:\n",
        "        return False\n",
        "\n",
        "    # Write n-1 as 2^r * d\n",
        "    r, d = 0, n - 1\n",
        "    while d % 2 == 0:\n",
        "        r += 1\n",
        "        d //= 2\n",
        "\n",
        "    # Witness loop\n",
        "    for _ in range(k):\n",
        "        a = random.randint(2, n - 2)\n",
        "        x = pow(a, d, n)\n",
        "        if x == 1 or x == n - 1:\n",
        "            continue\n",
        "        for _ in range(r - 1):\n",
        "            x = pow(x, 2, n)\n",
        "            if x == n - 1:\n",
        "                break\n",
        "        else:\n",
        "            return False\n",
        "    return True\n",
        "\n",
        "def lucas_lehmer_test(p):\n",
        "    \"\"\"Perform the Lucas-Lehmer test for Mersenne primes.\"\"\"\n",
        "    if p == 2:\n",
        "        return True\n",
        "    s = 4\n",
        "    M = 2**p - 1\n",
        "    for _ in range(p - 2):\n",
        "        s = (s * s - 2) % M\n",
        "    return s == 0\n",
        "\n",
        "def format_large_prime(prime, digits_to_show=5):\n",
        "    \"\"\"Format large prime numbers to show in human-readable form.\"\"\"\n",
        "    prime_str = str(prime)\n",
        "    if len(prime_str) > 20:  # Adjust this threshold as needed\n",
        "        return f\"{prime_str[:digits_to_show]}...{prime_str[-digits_to_show:]}\"\n",
        "    return prime_str\n",
        "\n",
        "def check_mersenne_prime(p):\n",
        "    \"\"\"Check if 2^p - 1 is a Mersenne prime using the Lucas-Lehmer test.\"\"\"\n",
        "    if miller_rabin(p):  # Ensure p is prime before using Lucas-Lehmer\n",
        "        if lucas_lehmer_test(p):\n",
        "            mersenne_number = 2**p - 1\n",
        "            formatted_prime = format_large_prime(mersenne_number)\n",
        "            return (p, mersenne_number, formatted_prime)\n",
        "    return None\n",
        "\n",
        "def find_mersenne_primes_in_range(start, end, found_exponents):\n",
        "    \"\"\"Find Mersenne primes within a given range, skipping already found ones.\"\"\"\n",
        "    results = []\n",
        "    for p in range(start, end + 1):\n",
        "        if p in found_exponents:\n",
        "            continue  # Skip already found exponents\n",
        "        result = check_mersenne_prime(p)\n",
        "        if result:\n",
        "            results.append(result)\n",
        "    return results\n",
        "\n",
        "def parallel_find_mersenne_primes(limit, job_size, found_exponents):\n",
        "    \"\"\"Find Mersenne primes using parallel processing.\"\"\"\n",
        "    num_jobs = (limit - 2) // job_size + 1\n",
        "    num_cores = multiprocessing.cpu_count()\n",
        "\n",
        "    print(f\"Number of CPU cores: {num_cores}\")\n",
        "    print(f\"Total number of jobs: {num_jobs}\")\n",
        "\n",
        "    all_results = []\n",
        "\n",
        "    with concurrent.futures.ProcessPoolExecutor(max_workers=num_cores) as executor:\n",
        "        futures = []\n",
        "        for i in range(num_jobs):\n",
        "            start = 2 + i * job_size\n",
        "            end = min(start + job_size - 1, limit)\n",
        "            futures.append(executor.submit(find_mersenne_primes_in_range, start, end, found_exponents))\n",
        "\n",
        "        for future in tqdm(concurrent.futures.as_completed(futures), total=num_jobs):\n",
        "            result = future.result()\n",
        "            if result:\n",
        "                all_results.extend(result)\n",
        "\n",
        "    return all_results\n",
        "\n",
        "def save_results(results, filename=\"mersenne_primes.txt\"):\n",
        "    \"\"\"Save the Mersenne prime results to a file.\"\"\"\n",
        "    with open(filename, \"a\") as f:  # Append mode to add new results\n",
        "        for p, prime, formatted_prime in results:\n",
        "            f.write(f\"p = {p}, Mersenne prime: {formatted_prime}\\n\")\n",
        "\n",
        "def load_results(filename=\"mersenne_primes.txt\"):\n",
        "    \"\"\"Load the Mersenne prime results from a file.\"\"\"\n",
        "    results = []\n",
        "    found_exponents = set()\n",
        "    if os.path.exists(filename):\n",
        "        with open(filename, \"r\") as f:\n",
        "            for line in f:\n",
        "                parts = line.strip().split(\", Mersenne prime: \")\n",
        "                p = int(parts[0].split(\" = \")[1])\n",
        "                formatted_prime = parts[1]\n",
        "                found_exponents.add(p)\n",
        "                results.append((p, None, formatted_prime))\n",
        "    return results, found_exponents\n",
        "\n",
        "def reset_results(filename=\"mersenne_primes.txt\"):\n",
        "    \"\"\"Reset the results by clearing the saved file.\"\"\"\n",
        "    if os.path.exists(filename):\n",
        "        os.remove(filename)\n",
        "        print(f\"Results file '{filename}' has been reset.\")\n",
        "\n",
        "def visualize_mersenne_primes(results):\n",
        "    \"\"\"Visualize the distribution of Mersenne primes.\"\"\"\n",
        "    exponents = [res[0] for res in results]\n",
        "    prime_lengths = [len(str(res[2])) for res in results]\n",
        "\n",
        "    plt.figure(figsize=(10, 6))\n",
        "    plt.bar(exponents, prime_lengths, color='blue')\n",
        "    plt.xlabel('Exponent (p)')\n",
        "    plt.ylabel('Length of Mersenne Prime')\n",
        "    plt.title('Mersenne Prime Lengths by Exponent')\n",
        "    plt.show()\n",
        "\n",
        "# Set the range limit for p and job size\n",
        "limit = 10000  # Adjust this limit to find more Mersenne primes\n",
        "job_size = 500  # Process 500 exponents per job\n",
        "\n",
        "# Load previously found results to skip them\n",
        "previous_results, found_exponents = load_results()\n",
        "\n",
        "# Start the timer\n",
        "start_time = time.time()\n",
        "\n",
        "# Find Mersenne primes using parallel processing, skipping found ones\n",
        "new_results = parallel_find_mersenne_primes(limit, job_size, found_exponents)\n",
        "\n",
        "# Stop the timer\n",
        "end_time = time.time()\n",
        "\n",
        "# Save the new results to the file\n",
        "save_results(new_results)\n",
        "\n",
        "# Combine previous and new results for visualization and output\n",
        "all_results = previous_results + new_results\n",
        "\n",
        "# Print the results\n",
        "for p, prime, formatted_prime in new_results:\n",
        "    print(f\"p = {p} gives Mersenne prime: {formatted_prime}\")\n",
        "\n",
        "# Print total time taken\n",
        "print(f\"Total time taken: {end_time - start_time:.2f} seconds\")\n",
        "\n",
        "# Visualize the results\n",
        "visualize_mersenne_primes(all_results)\n"
      ],
      "metadata": {
        "colab": {
          "base_uri": "https://localhost:8080/",
          "height": 633
        },
        "id": "OmfM9oJQSL2S",
        "outputId": "1c55ad35-7b66-468b-ad3e-5b215535e310"
      },
      "execution_count": 20,
      "outputs": [
        {
          "output_type": "stream",
          "name": "stdout",
          "text": [
            "Number of CPU cores: 2\n",
            "Total number of jobs: 20\n"
          ]
        },
        {
          "output_type": "stream",
          "name": "stderr",
          "text": [
            "100%|██████████| 20/20 [09:04<00:00, 27.21s/it]\n"
          ]
        },
        {
          "output_type": "stream",
          "name": "stdout",
          "text": [
            "Total time taken: 544.27 seconds\n"
          ]
        },
        {
          "output_type": "display_data",
          "data": {
            "text/plain": [
              "<Figure size 1000x600 with 1 Axes>"
            ],
            "image/png": "[encoded data removed]"
          },
          "metadata": {}
        }
      ]
    },
    {
      "cell_type": "code",
      "source": [
        "# another improvement"
      ],
      "metadata": {
        "id": "n1SLG9CySN3m"
      },
      "execution_count": 21,
      "outputs": []
    },
    {
      "cell_type": "code",
      "source": [
        "import concurrent.futures\n",
        "import random\n",
        "import time\n",
        "from tqdm import tqdm\n",
        "import matplotlib.pyplot as plt\n",
        "import multiprocessing\n",
        "import os\n",
        "\n",
        "def miller_rabin(n, k=5):\n",
        "    \"\"\"Use the Miller-Rabin test to check primality with k iterations.\"\"\"\n",
        "    if n <= 1:\n",
        "        return False\n",
        "    if n <= 3:\n",
        "        return True\n",
        "    if n % 2 == 0:\n",
        "        return False\n",
        "\n",
        "    # Write n-1 as 2^r * d\n",
        "    r, d = 0, n - 1\n",
        "    while d % 2 == 0:\n",
        "        r += 1\n",
        "        d //= 2\n",
        "\n",
        "    # Witness loop\n",
        "    for _ in range(k):\n",
        "        a = random.randint(2, n - 2)\n",
        "        x = pow(a, d, n)\n",
        "        if x == 1 or x == n - 1:\n",
        "            continue\n",
        "        for _ in range(r - 1):\n",
        "            x = pow(x, 2, n)\n",
        "            if x == n - 1:\n",
        "                break\n",
        "        else:\n",
        "            return False\n",
        "    return True\n",
        "\n",
        "def lucas_lehmer_test(p):\n",
        "    \"\"\"Perform the Lucas-Lehmer test for Mersenne primes.\"\"\"\n",
        "    if p == 2:\n",
        "        return True\n",
        "    s = 4\n",
        "    M = 2**p - 1\n",
        "    for _ in range(p - 2):\n",
        "        s = (s * s - 2) % M\n",
        "    return s == 0\n",
        "\n",
        "def format_large_prime(prime, digits_to_show=5):\n",
        "    \"\"\"Format large prime numbers to show in human-readable form.\"\"\"\n",
        "    prime_str = str(prime)\n",
        "    if len(prime_str) > 20:  # Adjust this threshold as needed\n",
        "        return f\"{prime_str[:digits_to_show]}...{prime_str[-digits_to_show:]}\"\n",
        "    return prime_str\n",
        "\n",
        "def check_mersenne_prime(p):\n",
        "    \"\"\"Check if 2^p - 1 is a Mersenne prime using the Lucas-Lehmer test.\"\"\"\n",
        "    if miller_rabin(p):  # Ensure p is prime before using Lucas-Lehmer\n",
        "        if lucas_lehmer_test(p):\n",
        "            mersenne_number = 2**p - 1\n",
        "            formatted_prime = format_large_prime(mersenne_number)\n",
        "            return (p, mersenne_number, formatted_prime)\n",
        "    return None\n",
        "\n",
        "def find_mersenne_primes_in_range(start, end, found_exponents, output_file):\n",
        "    \"\"\"Find Mersenne primes within a given range, skipping already found ones.\"\"\"\n",
        "    results = []\n",
        "    for p in range(start, end + 1):\n",
        "        if p in found_exponents:\n",
        "            print(f\"p = {p} was found previously\")\n",
        "            continue  # Skip already found exponents\n",
        "        result = check_mersenne_prime(p)\n",
        "        if result:\n",
        "            p, prime, formatted_prime = result\n",
        "            print(f\"p = {p} gives Mersenne prime: {formatted_prime}\")\n",
        "            save_results([(p, prime, formatted_prime)], output_file)  # Save immediately\n",
        "            results.append(result)\n",
        "    return results\n",
        "\n",
        "def parallel_find_mersenne_primes(limit, job_size, found_exponents, output_file):\n",
        "    \"\"\"Find Mersenne primes using parallel processing.\"\"\"\n",
        "    num_jobs = (limit - 2) // job_size + 1\n",
        "    num_cores = multiprocessing.cpu_count()\n",
        "\n",
        "    print(f\"Number of CPU cores: {num_cores}\")\n",
        "    print(f\"Total number of jobs: {num_jobs}\")\n",
        "\n",
        "    all_results = []\n",
        "\n",
        "    with concurrent.futures.ProcessPoolExecutor(max_workers=num_cores) as executor:\n",
        "        futures = []\n",
        "        for i in range(num_jobs):\n",
        "            start = 2 + i * job_size\n",
        "            end = min(start + job_size - 1, limit)\n",
        "            if start > max(found_exponents, default=0):  # Skip jobs that are entirely before the last found prime\n",
        "                futures.append(executor.submit(find_mersenne_primes_in_range, start, end, found_exponents, output_file))\n",
        "\n",
        "        for future in tqdm(concurrent.futures.as_completed(futures), total=num_jobs):\n",
        "            result = future.result()\n",
        "            if result:\n",
        "                all_results.extend(result)\n",
        "\n",
        "    return all_results\n",
        "\n",
        "def save_results(results, filename=\"mersenne_primes.txt\"):\n",
        "    \"\"\"Save the Mersenne prime results to a file.\"\"\"\n",
        "    with open(filename, \"a\") as f:  # Append mode to add new results\n",
        "        for p, prime, formatted_prime in results:\n",
        "            f.write(f\"p = {p}, Mersenne prime: {formatted_prime}\\n\")\n",
        "\n",
        "def load_results(filename=\"mersenne_primes.txt\"):\n",
        "    \"\"\"Load the Mersenne prime results from a file.\"\"\"\n",
        "    results = []\n",
        "    found_exponents = set()\n",
        "    if os.path.exists(filename):\n",
        "        with open(filename, \"r\") as f:\n",
        "            for line in f:\n",
        "                parts = line.strip().split(\", Mersenne prime: \")\n",
        "                p = int(parts[0].split(\" = \")[1])\n",
        "                formatted_prime = parts[1]\n",
        "                found_exponents.add(p)\n",
        "                results.append((p, None, formatted_prime))\n",
        "    return results, found_exponents\n",
        "\n",
        "def reset_results(filename=\"mersenne_primes.txt\"):\n",
        "    \"\"\"Reset the results by clearing the saved file.\"\"\"\n",
        "    if os.path.exists(filename):\n",
        "        os.remove(filename)\n",
        "        print(f\"Results file '{filename}' has been reset.\")\n",
        "\n",
        "def visualize_mersenne_primes(results):\n",
        "    \"\"\"Visualize the distribution of Mersenne primes.\"\"\"\n",
        "    exponents = [res[0] for res in results]\n",
        "    prime_lengths = [len(str(res[2])) for res in results]\n",
        "\n",
        "    plt.figure(figsize=(10, 6))\n",
        "    plt.bar(exponents, prime_lengths, color='blue')\n",
        "    plt.xlabel('Exponent (p)')\n",
        "    plt.ylabel('Length of Mersenne Prime')\n",
        "    plt.title('Mersenne Prime Lengths by Exponent')\n",
        "    plt.show()\n",
        "\n",
        "# Set the range limit for p and job size\n",
        "limit = 15000  # Adjust this limit to find more Mersenne primes\n",
        "job_size = 500  # Process 500 exponents per job\n",
        "output_file = \"mersenne_primes.txt\"\n",
        "\n",
        "# Load previously found results to skip them\n",
        "previous_results, found_exponents = load_results(output_file)\n",
        "\n",
        "# Print all previously found primes\n",
        "print(\"Previously found Mersenne primes:\")\n",
        "for p, _, formatted_prime in previous_results:\n",
        "    print(f\"p = {p}, Mersenne prime: {formatted_prime}\")\n",
        "\n",
        "# Find the next starting point after the last found exponent\n",
        "start_point = max(found_exponents, default=1) + 1\n",
        "if start_point > limit:\n",
        "    print(f\"All primes up to {limit} have been found.\")\n",
        "else:\n",
        "    print(f\"Starting from p = {start_point}...\")\n",
        "\n",
        "# Start the timer\n",
        "start_time = time.time()\n",
        "\n",
        "# Find Mersenne primes using parallel processing, skipping found ones\n",
        "new_results = parallel_find_mersenne_primes(limit, job_size, found_exponents, output_file)\n",
        "\n",
        "# Stop the timer\n",
        "end_time = time.time()\n",
        "\n",
        "# Combine previous and new results for visualization and output\n",
        "all_results = previous_results + new_results\n",
        "\n",
        "# Print total time taken\n",
        "print(f\"Total time taken: {end_time - start_time:.2f} seconds\")\n",
        "\n",
        "# Visualize the results\n",
        "visualize_mersenne_primes(all_results)\n"
      ],
      "metadata": {
        "colab": {
          "base_uri": "https://localhost:8080/",
          "height": 1000
        },
        "id": "_uO2S6xKYVBj",
        "outputId": "1c3d7d19-5579-4e6a-dade-6816a70ebffd"
      },
      "execution_count": 3,
      "outputs": [
        {
          "output_type": "stream",
          "name": "stdout",
          "text": [
            "Previously found Mersenne primes:\n",
            "p = 2, Mersenne prime: 3\n",
            "p = 3, Mersenne prime: 7\n",
            "p = 5, Mersenne prime: 31\n",
            "p = 7, Mersenne prime: 127\n",
            "p = 13, Mersenne prime: 8191\n",
            "p = 17, Mersenne prime: 131071\n",
            "p = 19, Mersenne prime: 524287\n",
            "p = 31, Mersenne prime: 2147483647\n",
            "p = 61, Mersenne prime: 2305843009213693951\n",
            "p = 89, Mersenne prime: 61897...62111\n",
            "p = 107, Mersenne prime: 16225...88127\n",
            "p = 127, Mersenne prime: 17014...05727\n",
            "p = 521, Mersenne prime: 68647...57151\n",
            "p = 607, Mersenne prime: 53113...28127\n",
            "p = 1279, Mersenne prime: 10407...29087\n",
            "p = 2203, Mersenne prime: 14759...71007\n",
            "p = 2281, Mersenne prime: 44608...36351\n",
            "p = 3217, Mersenne prime: 25911...15071\n",
            "p = 4253, Mersenne prime: 19079...84991\n",
            "p = 4423, Mersenne prime: 28554...80607\n",
            "p = 9689, Mersenne prime: 47822...54111\n",
            "p = 9941, Mersenne prime: 34608...63551\n",
            "p = 11213, Mersenne prime: 28141...92191\n",
            "Starting from p = 11214...\n",
            "Number of CPU cores: 2\n",
            "Total number of jobs: 30\n"
          ]
        },
        {
          "output_type": "stream",
          "name": "stderr",
          "text": [
            " 23%|██▎       | 7/30 [27:44<1:31:08, 237.75s/it]\n"
          ]
        },
        {
          "output_type": "stream",
          "name": "stdout",
          "text": [
            "Total time taken: 1664.30 seconds\n"
          ]
        },
        {
          "output_type": "display_data",
          "data": {
            "text/plain": [
              "<Figure size 1000x600 with 1 Axes>"
            ],
            "image/png": "[encoded data removed]"
          },
          "metadata": {}
        }
      ]
    },
    {
      "cell_type": "code",
      "source": [
        "import matplotlib.pyplot as plt\n",
        "import numpy as np\n",
        "\n",
        "# Function to read the Mersenne primes from the output file\n",
        "def read_mersenne_primes_from_file(filename=\"mersenne_primes.txt\"):\n",
        "    exponents = []\n",
        "    mersenne_primes = []\n",
        "\n",
        "    with open(filename, \"r\") as file:\n",
        "        for line in file:\n",
        "            parts = line.strip().split(\", Mersenne prime: \")\n",
        "            if len(parts) == 2:\n",
        "                p_str = parts[0].split(\" = \")[1]\n",
        "                p = int(p_str)\n",
        "                prime_str = parts[1].replace(\"...\", \"\")\n",
        "                try:\n",
        "                    prime = int(prime_str)\n",
        "                    exponents.append(p)\n",
        "                    mersenne_primes.append(prime)\n",
        "                except ValueError:\n",
        "                    print(f\"Skipping large prime at p = {p}\")\n",
        "\n",
        "    return exponents, mersenne_primes\n",
        "\n",
        "# Read the data from the file\n",
        "exponents, mersenne_primes = read_mersenne_primes_from_file()\n",
        "\n",
        "# Ensure the lists are not empty and have matching lengths\n",
        "if len(exponents) == len(mersenne_primes) and len(exponents) > 0:\n",
        "    log_mersenne_primes = [np.log10(prime) for prime in mersenne_primes]\n",
        "\n",
        "    # Plot with a logarithmic scale for the x-axis\n",
        "    plt.figure(figsize=(12, 6))\n",
        "    plt.plot(exponents, log_mersenne_primes, marker='o', linestyle='-', color='blue')\n",
        "\n",
        "    plt.xscale('log')\n",
        "    plt.xlabel('Exponent (p) [Log Scale]')\n",
        "    plt.ylabel('Log10 of Mersenne Prime')\n",
        "    plt.title('Logarithm of Mersenne Primes by Exponent')\n",
        "    plt.grid(True)\n",
        "    plt.show()\n",
        "else:\n",
        "    print(\"There seems to be an issue with the data. Please check the output file for correctness.\")\n"
      ],
      "metadata": {
        "colab": {
          "base_uri": "https://localhost:8080/",
          "height": 569
        },
        "id": "1bGEBc7qYXDk",
        "outputId": "3ce50add-bd56-4917-aedd-e1d094115b46"
      },
      "execution_count": 31,
      "outputs": [
        {
          "output_type": "display_data",
          "data": {
            "text/plain": [
              "<Figure size 1200x600 with 1 Axes>"
            ],
            "image/png": "[encoded data removed]"
          },
          "metadata": {}
        }
      ]
    },
    {
      "cell_type": "code",
      "source": [
        "#Basic Model Exploration"
      ],
      "metadata": {
        "id": "Jyj0FYAMeTeo"
      },
      "execution_count": 32,
      "outputs": []
    },
    {
      "cell_type": "code",
      "source": [
        "import numpy as np\n",
        "import matplotlib.pyplot as plt\n",
        "\n",
        "# Example data: known exponents of Mersenne primes\n",
        "# = [2, 3, 5, 7, 13, 17, 19, 31, 61, 89, 107, 127, 521, 607, 1279, 2203, 2281, 3217, 4253, 4423, 9689, 9941]\n",
        "exponents, mersenne_primes = read_mersenne_primes_from_file()\n",
        "\n",
        "# Calculate gaps between successive exponents\n",
        "gaps = np.diff(exponents)\n",
        "\n",
        "# Plot gaps to see if there's any pattern\n",
        "plt.figure(figsize=(12, 6))\n",
        "plt.plot(range(1, len(exponents)), gaps, marker='o', linestyle='-', color='blue')\n",
        "plt.xlabel('Index of Mersenne Prime')\n",
        "plt.ylabel('Gap between Successive Exponents')\n",
        "plt.title('Gaps between Successive Mersenne Prime Exponents')\n",
        "plt.grid(True)\n",
        "plt.show()\n"
      ],
      "metadata": {
        "colab": {
          "base_uri": "https://localhost:8080/",
          "height": 564
        },
        "id": "40eVDiF5iEdS",
        "outputId": "e78c184b-353c-48d9-d319-1a06d5ffbf1d"
      },
      "execution_count": 34,
      "outputs": [
        {
          "output_type": "display_data",
          "data": {
            "text/plain": [
              "<Figure size 1200x600 with 1 Axes>"
            ],
            "image/png": "[encoded data removed]"
          },
          "metadata": {}
        }
      ]
    },
    {
      "cell_type": "code",
      "source": [],
      "metadata": {
        "id": "YyZLQmIKiG3b"
      },
      "execution_count": null,
      "outputs": []
    },
    {
      "cell_type": "markdown",
      "source": [
        " Explore Skip Patterns"
      ],
      "metadata": {
        "id": "ol3aXihYWJbA"
      }
    },
    {
      "cell_type": "code",
      "source": [
        "import time\n",
        "\n",
        "def lucas_lehmer_full(p):\n",
        "    \"\"\"Standard Lucas-Lehmer Test\"\"\"\n",
        "    M_p = (1 << p) - 1  # Mersenne number 2^p - 1\n",
        "    s = 4\n",
        "    for i in range(1, p - 1):\n",
        "        s = (s * s - 2) % M_p\n",
        "    return s == 0\n",
        "\n",
        "def lucas_lehmer_skip(p, skip_interval):\n",
        "    \"\"\"Lucas-Lehmer Test with Skipping Iterations\"\"\"\n",
        "    M_p = (1 << p) - 1  # Mersenne number 2^p - 1\n",
        "    s = 4\n",
        "    for i in range(1, p - 1):\n",
        "        if i % skip_interval != 0:\n",
        "            s = (s * s - 2) % M_p\n",
        "        else:\n",
        "            print(f\"Skipping iteration {i}\")\n",
        "    return s == 0\n",
        "\n",
        "def test_skip_patterns(p, skip_interval):\n",
        "    print(f\"Testing Lucas-Lehmer for p = {p} with skip interval = {skip_interval}\")\n",
        "\n",
        "    start_time_full = time.time()\n",
        "    is_prime_full = lucas_lehmer_full(p)\n",
        "    time_full = time.time() - start_time_full\n",
        "\n",
        "    print(f\"Full Lucas-Lehmer: {is_prime_full}, Time: {time_full:.6f} seconds\")\n",
        "\n",
        "    start_time_skip = time.time()\n",
        "    is_prime_skip = lucas_lehmer_skip(p, skip_interval)\n",
        "    time_skip = time.time() - start_time_skip\n",
        "\n",
        "    print(f\"Skipped Lucas-Lehmer: {is_prime_skip}, Time: {time_skip:.6f} seconds\")\n",
        "\n",
        "# Test with a small prime p\n",
        "test_p = 19  # p = 19 corresponds to the Mersenne number 2^19 - 1 = 524287, which is prime\n",
        "skip_interval = 3  # For example, try skipping every 3rd iteration\n",
        "\n",
        "test_skip_patterns(test_p, skip_interval)\n"
      ],
      "metadata": {
        "colab": {
          "base_uri": "https://localhost:8080/"
        },
        "id": "lRPIqgF4WLOU",
        "outputId": "77df3f83-36fc-4907-8528-e2fd9f612382"
      },
      "execution_count": 4,
      "outputs": [
        {
          "output_type": "stream",
          "name": "stdout",
          "text": [
            "Testing Lucas-Lehmer for p = 19 with skip interval = 3\n",
            "Full Lucas-Lehmer: True, Time: 0.000012 seconds\n",
            "Skipping iteration 3\n",
            "Skipping iteration 6\n",
            "Skipping iteration 9\n",
            "Skipping iteration 12\n",
            "Skipping iteration 15\n",
            "Skipped Lucas-Lehmer: False, Time: 0.000146 seconds\n"
          ]
        }
      ]
    },
    {
      "cell_type": "code",
      "source": [
        "def lucas_lehmer_partial(p):\n",
        "    \"\"\"Lucas-Lehmer Test with Partial Computation Reuse\"\"\"\n",
        "    M_p = (1 << p) - 1  # Mersenne number 2^p - 1\n",
        "    s = 4\n",
        "    for i in range(1, p - 1):\n",
        "        s = (s * s - 2) % M_p\n",
        "\n",
        "        # Hypothetical check for partial result reuse\n",
        "        if i > 1 and s == 4:  # Example condition, adjust based on findings\n",
        "            print(f\"Repeating pattern detected at iteration {i}\")\n",
        "            # Hypothetical optimization, skipping to next major step\n",
        "\n",
        "    return s == 0\n",
        "\n",
        "# Test with a small prime p\n",
        "test_p = 11213  # p = 19 corresponds to the Mersenne number 2^19 - 1 = 524287, which is prime\n",
        "\n",
        "result = lucas_lehmer_partial(test_p)\n",
        "print(f\"Lucas-Lehmer with partial computation reuse: {'Prime' if result else 'Not Prime'}\")\n"
      ],
      "metadata": {
        "colab": {
          "base_uri": "https://localhost:8080/"
        },
        "id": "CdGoHyT0WTfN",
        "outputId": "2ec44323-1eec-4f67-ec31-6327d35aacf6"
      },
      "execution_count": 10,
      "outputs": [
        {
          "output_type": "stream",
          "name": "stdout",
          "text": [
            "Lucas-Lehmer with partial computation reuse: Prime\n"
          ]
        }
      ]
    },
    {
      "cell_type": "code",
      "source": [
        "def lucas_lehmer_partial_optimized(p):\n",
        "    \"\"\"Lucas-Lehmer Test with Enhanced Partial Computation Reuse\"\"\"\n",
        "    M_p = (1 << p) - 1  # Mersenne number 2^p - 1\n",
        "    s = 4\n",
        "    previous_s = {}\n",
        "\n",
        "    for i in range(1, p - 1):\n",
        "        s = (s * s - 2) % M_p\n",
        "\n",
        "        # Check if this value of s has been seen before\n",
        "        if s in previous_s:\n",
        "            print(f\"Pattern detected: {s} was first seen at iteration {previous_s[s]} and repeated at {i}\")\n",
        "            # Hypothetical optimization: decide if we can skip some iterations\n",
        "\n",
        "        previous_s[s] = i  # Store the iteration number where this value occurred\n",
        "\n",
        "    return s == 0\n",
        "\n",
        "# Test with a small prime p\n",
        "test_p = 21701  # Larger prime to test performance and pattern detection\n",
        "\n",
        "result = lucas_lehmer_partial_optimized(test_p)\n",
        "print(f\"Lucas-Lehmer with enhanced partial computation reuse: {'Prime' if result else 'Not Prime'}\")\n"
      ],
      "metadata": {
        "colab": {
          "base_uri": "https://localhost:8080/"
        },
        "id": "VUNG0pxAdvd7",
        "outputId": "ebd66277-0511-4920-a80b-57cca11cb75d"
      },
      "execution_count": 13,
      "outputs": [
        {
          "output_type": "stream",
          "name": "stdout",
          "text": [
            "Lucas-Lehmer with enhanced partial computation reuse: Prime\n"
          ]
        }
      ]
    },
    {
      "cell_type": "code",
      "source": [
        "import os\n",
        "\n",
        "def load_tested_primes(filename):\n",
        "    \"\"\"Load already tested primes from the file.\"\"\"\n",
        "    if not os.path.exists(filename):\n",
        "        return {}\n",
        "\n",
        "    tested_primes = {}\n",
        "    with open(filename, 'r') as f:\n",
        "        for line in f:\n",
        "            parts = line.split(',')\n",
        "            if len(parts) == 2:\n",
        "                p = int(parts[0].split('=')[1].strip())\n",
        "                mersenne_prime = parts[1].split(':')[1].strip()\n",
        "                tested_primes[p] = mersenne_prime\n",
        "    return tested_primes\n",
        "\n",
        "def save_prime_to_file(filename, p, mersenne_prime):\n",
        "    \"\"\"Save the new prime result to the file.\"\"\"\n",
        "    with open(filename, 'a') as f:\n",
        "        f.write(f\"p = {p}, Mersenne prime: {mersenne_prime}\\n\")\n",
        "\n",
        "def lucas_lehmer_partial_optimized(p):\n",
        "    \"\"\"Lucas-Lehmer Test with Enhanced Partial Computation Reuse\"\"\"\n",
        "    M_p = (1 << p) - 1  # Mersenne number 2^p - 1\n",
        "    s = 4\n",
        "    previous_s = {}\n",
        "\n",
        "    for i in range(1, p - 1):\n",
        "        s = (s * s - 2) % M_p\n",
        "\n",
        "        # Check if this value of s has been seen before\n",
        "        if s in previous_s:\n",
        "            print(f\"Pattern detected: {s} was first seen at iteration {previous_s[s]} and repeated at {i}\")\n",
        "            # Hypothetical optimization: decide if we can skip some iterations\n",
        "\n",
        "        previous_s[s] = i  # Store the iteration number where this value occurred\n",
        "\n",
        "    return s == 0\n",
        "\n",
        "def test_mersenne_prime(p, filename='mersenne_primes.txt'):\n",
        "    \"\"\"Check if the Mersenne prime has already been tested, if not, test and save.\"\"\"\n",
        "    tested_primes = load_tested_primes(filename)\n",
        "\n",
        "    if p in tested_primes:\n",
        "        print(f\"p = {p}, Mersenne prime: {tested_primes[p]} (Already tested)\")\n",
        "        return\n",
        "\n",
        "    # Run the Lucas-Lehmer test\n",
        "    is_prime = lucas_lehmer_partial_optimized(p)\n",
        "\n",
        "    if is_prime:\n",
        "        mersenne_prime = (1 << p) - 1\n",
        "        print(f\"p = {p}, Mersenne prime: {mersenne_prime}\")\n",
        "        save_prime_to_file(filename, p, mersenne_prime)\n",
        "    else:\n",
        "        print(f\"p = {p} is not a Mersenne prime.\")\n",
        "\n",
        "# Test with a small prime p\n",
        "test_p = 75283  # Larger prime to test performance and pattern detection #75,283,321\n",
        "\n",
        "test_mersenne_prime(test_p)\n"
      ],
      "metadata": {
        "colab": {
          "base_uri": "https://localhost:8080/"
        },
        "id": "jkF-PdPNfCAk",
        "outputId": "9c8dbb09-c4df-4139-f493-5fe95042a6ac"
      },
      "execution_count": 2,
      "outputs": [
        {
          "output_type": "stream",
          "name": "stdout",
          "text": [
            "p = 75283 is not a Mersenne prime.\n"
          ]
        }
      ]
    },
    {
      "cell_type": "code",
      "source": [],
      "metadata": {
        "id": "J2Xv6WtkVYdn"
      },
      "execution_count": null,
      "outputs": []
    },
    {
      "cell_type": "code",
      "source": [],
      "metadata": {
        "id": "WvQ8s3R-gBFm"
      },
      "execution_count": null,
      "outputs": []
    }
  ]
}